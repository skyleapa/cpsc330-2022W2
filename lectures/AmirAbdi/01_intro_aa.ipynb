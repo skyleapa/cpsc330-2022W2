{
 "cells": [
  {
   "cell_type": "markdown",
   "metadata": {
    "slideshow": {
     "slide_type": "-"
    }
   },
   "source": [
    "![banner](../img/330-banner.png)"
   ]
  },
  {
   "cell_type": "markdown",
   "metadata": {},
   "source": [
    "# Lecture 1: Course Introduction \n",
    "\n",
    "- UBC 2022-23, CPSC 330, Section 203\n",
    "- Instructor: Amir Abdi\n",
    "- Recap video: [1.0 Machine Learning Introduction](https://youtu.be/-1hTcS5ZE4w)"
   ]
  },
  {
   "cell_type": "markdown",
   "metadata": {},
   "source": [
    "## 📹 PreWatch and PostWatch:\n",
    "- Pre-watch: \n",
    "  - None\n",
    "- After lecture: \n",
    "  - [1.0 Machine Learning Introduction](https://youtu.be/-1hTcS5ZE4w)                                                                       "
   ]
  },
  {
   "cell_type": "markdown",
   "metadata": {
    "slideshow": {
     "slide_type": "slide"
    }
   },
   "source": [
    "## Learning Outcomes (LOs)\n",
    "From this lecture, you will be able to\n",
    "- explain the motivation to study machine learning;\n",
    "- explain supervised machine learning; \n",
    "- navigate through the [course material](https://github.com/UBC-CS/cpsc330-2022W2);\n",
    "- be familiar with the [policies](https://github.com/UBC-CS/cpsc330-2022W2/blob/main/docs/course_info.md);\n",
    "- [set up your environment](https://github.com/UBC-CS/cpsc330-2022W2/blob/main/docs/setup.md)."
   ]
  },
  {
   "cell_type": "markdown",
   "metadata": {},
   "source": [
    "<br>"
   ]
  },
  {
   "cell_type": "markdown",
   "metadata": {
    "slideshow": {
     "slide_type": "slide"
    }
   },
   "source": [
    "<br><br><br><br><br><br><br>\n",
    "**When the student is ready the teacher will appear.**  \n",
    "**When the student is truly ready the teacher will disappear.**  \n",
    "\\- Tao Te Ching\n",
    "<br><br><br><br><br><br><br>"
   ]
  },
  {
   "cell_type": "markdown",
   "metadata": {
    "slideshow": {
     "slide_type": "slide"
    }
   },
   "source": [
    "### Instructor\n",
    "    \n",
    "- \"Amir Abdi\", \"امیر عبدی\"\n",
    "- call me **Amir**\n",
    "- UBC PhD Alumni, Principal Applied Scientist in Microsoft\n",
    "- Fact: I'm not funny, at least not in English\n",
    "- Fun fact: In a parallel universe and a kingdom far far away, I was also a Dentist (you see, not funny!)\n",
    "\n",
    "**Contact:** Piazza + Office Hours (Mondays, 5-6 PM, virtual on Zoom)"
   ]
  },
  {
   "cell_type": "markdown",
   "metadata": {
    "slideshow": {
     "slide_type": "slide"
    }
   },
   "source": [
    "### Co-instructors\n",
    "\n",
    "<img src=\"../img/IMG_GToti.jpg\" height=\"150\" width=\"100\">\n",
    "\n",
    "Giulia Toti - Section 201<br><br>\n",
    "\n",
    "<img src=\"../img/Mathias-037-square.jpg\" height=\"150\" width=\"100\">\n",
    "\n",
    "Mathias Lecuyer - Section 202\n",
    "\n",
    "**Contact:** Piazza"
   ]
  },
  {
   "cell_type": "markdown",
   "metadata": {
    "slideshow": {
     "slide_type": "slide"
    }
   },
   "source": [
    "## Meet CPSC 330 TAs\n",
    "\n",
    "We have many amazing TAs involved in the course this semester! They are:\n",
    "\n",
    "- Anne-Sophie Fratzscher\n",
    "- Ario Rostami\n",
    "- Elizabeth Reid\n",
    "- Eric Wong\n",
    "- Frederick Shpilevskiy\n",
    "- Ken Johnson\n",
    "- Mahsa Zarei\n",
    "- Mihir Bhandari\n",
    "- Miranda Chan\n",
    "- Peyman Gholami\n",
    "- Serina Mak\n",
    "\n",
    "**Contact:** Piazza + tutorial session"
   ]
  },
  {
   "cell_type": "markdown",
   "metadata": {
    "slideshow": {
     "slide_type": "slide"
    }
   },
   "source": [
    "### Students\n",
    "- ~90 students\n",
    "- If I know your interests, I will try to tune my content to match; let's talk!\n",
    "\n",
    "**Let's try an interactive tool and share what you are excited about**  \n",
    "Browse here: https://www.menti.com/alkan1cbnb9o  \n",
    "--- OR ---  \n",
    "Scan this 👇  \n",
    "<img src=\"./img_aa/01_intro_mentimeter_qr_code.png\" height=\"300\" width=\"300\">"
   ]
  },
  {
   "cell_type": "markdown",
   "metadata": {},
   "source": [
    "<br><br><br><br><br><br><br>\n",
    "# Accessibility Accommodations\n",
    "If you need any accmmodations for this course, let me know, OR, contact UBC's Centre for Accessibility.  \n",
    "https://students.ubc.ca/enrolment/academic-learning-resources/academic-accommodations-disabilities/request-accommodation\n",
    "<br><br><br><br><br><br><br>"
   ]
  },
  {
   "cell_type": "markdown",
   "metadata": {
    "slideshow": {
     "slide_type": "slide"
    },
    "tags": []
   },
   "source": [
    "### Eva (she/her/hers) (a fictitious persona)!\n",
    "\n",
    "![](../img/eva-hi.png)\n",
    "\n",
    "- Eva is among you. She knows some Python programming. \n",
    "- She knows machine learning as a buzz word (or might have trained a model or two). \n",
    "- She wants to learn more, and potentially pursue machine learning as a career. \n",
    "- She is a curious person, asks questions, and searches into any concept that's foreign to her."
   ]
  },
  {
   "cell_type": "markdown",
   "metadata": {
    "slideshow": {
     "slide_type": "skip"
    }
   },
   "source": [
    "<br><br>"
   ]
  },
  {
   "cell_type": "markdown",
   "metadata": {
    "slideshow": {
     "slide_type": "slide"
    }
   },
   "source": [
    "### Prevalence of ML\n",
    "\n",
    "Let's look at some examples. \n",
    "\n",
    "<img src=\"../img/ml-examples.png\" height=\"1000\" width=\"1000\"> "
   ]
  },
  {
   "cell_type": "markdown",
   "metadata": {
    "slideshow": {
     "slide_type": "slide"
    }
   },
   "source": [
    "- Image sources \n",
    "    - [Voice assistants](https://geeksfl.com/blog/best-voice-assistant/)\n",
    "    - [Google News](https://news.google.com)    \n",
    "    - [Recommendation systems](https://en.wikipedia.org/wiki/Recommender_system)\n",
    "    - [Face Recognition source](https://startupleague.online/blog/3dss-tech-facial-recognition-technology/)\n",
    "    - [Auto-completion](https://9to5google.com/2020/08/10/android-11-autofill-keyboard/)\n",
    "    - [Stock market prediction](https://hbr.org/2019/12/what-machine-learning-will-mean-for-asset-managers)    \n",
    "    - [Character recognition](https://en.wikipedia.org/wiki/Handwriting_recognition)    \n",
    "    - [AlphaGo](https://deepmind.com/alphago-china)\n",
    "    - [Self-driving cars](https://mc.ai/artificial-intelligence-in-self-driving-cars%E2%80%8A-%E2%80%8Ahow-far-have-we-gotten/)\n",
    "    - [Drug discovery](https://www.nature.com/articles/d41586-018-05267-x)\n",
    "    - [Cancer detection](https://venturebeat.com/2018/10/12/google-ai-claims-99-accuracy-in-metastatic-breast-cancer-detection/)"
   ]
  },
  {
   "cell_type": "markdown",
   "metadata": {},
   "source": [
    "- https://chat.openai.com/chat\n",
    "> Assume you are a sessional instructor teaching CPSC 330 to Computer Science students at UBC. Tell them something to get them excited about machine learning. \n",
    "- https://beta.openai.com/playground\n",
    "> Enumerate twnety real world machine learning applications and the deep learning models used for them.\n",
    "> - machine translation: transformers with cross attention layers \n"
   ]
  },
  {
   "cell_type": "markdown",
   "metadata": {},
   "source": [
    "How much do you think training the latest GPT models cost?   \n",
    "Go here: https://www.menti.com/aluwyha5arvf  \n",
    "Or scan this 👇  \n",
    "<img src=\"./img_aa/01_intro_mentimeter_gpt_cost_qr_code.png\" height=\"300\" width=\"300\">"
   ]
  },
  {
   "cell_type": "markdown",
   "metadata": {},
   "source": [
    "<br><br><br><br><br><br><br><br><br>\n",
    "Not to mention the carbon footprint of training models:\n",
    "- https://towardsdatascience.com/the-carbon-footprint-of-chatgpt-66932314627d\n",
    "- https://medium.com/@chrispointon/the-carbon-footprint-of-chatgpt-e1bc14e4cc2a\n",
    "<br><br><br><br><br><br><br><br><br>"
   ]
  },
  {
   "cell_type": "markdown",
   "metadata": {},
   "source": [
    "## AI is Eating the World by proxy!\n",
    "> software is eating the world.\n",
    "\n",
    "\\- Marc Andreessen, 2011  (co-author of Mosaic and Netscape)\n",
    "\n",
    "> Software Is Eating the World, but AI Is Going to Eat Software\n",
    "\n",
    "\\- Jensen Huang, 2017 (Nvidia CEO)"
   ]
  },
  {
   "cell_type": "markdown",
   "metadata": {
    "slideshow": {
     "slide_type": "slide"
    }
   },
   "source": [
    "### ML is just another software\n",
    "\n",
    "- Imagine writing a program for spam email identification\n",
    "- Traditional programming \n",
    "    - find patterns (e.g. YOU WON!, million dollars, click here, you asked for my photo)\n",
    "    - design rules to capture the pattern\n",
    "    - **Time consuming**\n",
    "    - **Not robust (brittle)**\n",
    "    - **Not immune to change**\n",
    "- Machine learning\n",
    "    - Collect large amount of data of Spam and non-Spam emails\n",
    "    - Train a model to **figure out the rules** that minimize an **objective function**\n",
    "    - **objective function:** correctly detect Spam emails.\n",
    "    - Keep re-training the model with new data"
   ]
  },
  {
   "cell_type": "markdown",
   "metadata": {
    "slideshow": {
     "slide_type": "skip"
    }
   },
   "source": [
    "<br><br>"
   ]
  },
  {
   "cell_type": "markdown",
   "metadata": {
    "slideshow": {
     "slide_type": "slide"
    }
   },
   "source": [
    "### Types of machine learning\n",
    "\n",
    "Here are some typical learning problems. \n",
    "\n",
    "- Supervised learning\n",
    "    - Training a model from input data and and **its corresponding targets** (labels) to predict targets for new examples.     \n",
    "- Self-supervised learning (SSL)\n",
    "    - Similar to Supervised, but without any labels/targets, instead the input data (e.g. `X`) is the target.\n",
    "- Unsupervised learning\n",
    "    - Training a model to find patterns in a dataset, typically an unlabeled dataset\n",
    "- Hybrid of Unsurpervised and Supervised\n",
    "    - **Unsupervise** training of Large Language Models (LLM) on general data followed by **supervised** training on downstream tasks\n",
    "- Reinforcement learning\n",
    "    - A family of algorithms for finding suitable actions to take in a given situation in order to maximize a reward. \n"
   ]
  },
  {
   "cell_type": "markdown",
   "metadata": {
    "slideshow": {
     "slide_type": "slide"
    }
   },
   "source": [
    "### Definition \n",
    "\n",
    "**First definition:**  \n",
    "<img src=\"https://upload.wikimedia.org/wikipedia/commons/f/f8/This_is_the_photo_of_Arthur_Samuel.jpg\" height=\"150\" width=\"150\"> \n",
    "\n",
    "\n",
    "> A field of study that gives computers the ability to learn without being explicitly programmed.   \n",
    "\\- Arthur Samuel (1959)  \n",
    "\n",
    "(In 1952, **Arthur Samuel** wrote the first computer learning program, on an IBM computer, to improve in playing checkers)\n",
    "\n",
    "\n",
    "**Modern definition:**  \n",
    "<img src=\"http://www.cs.cmu.edu/~tom/TomHead2-6-22-22.jpg\" height=\"150\" width=\"150\"> \n",
    "\n",
    "> Computer program is said to learn from **experience `E`** with respect to some class of **tasks `T`** and **performance measure `P`**, if its performance at tasks in `T`, as measured by `P`, improves with experience `E`.  \n",
    "\\- Tom Mitchell\n",
    "\n",
    "(In 1997, **Tom Mitchell**, published one of the first textbooks in machine learning, \"Machine Learning\", Professor in CMU, active and continues to publish)\n",
    "\n"
   ]
  },
  {
   "cell_type": "markdown",
   "metadata": {},
   "source": [
    "<br><br><br><br><br>\n",
    "**ML is a different way to think about problem solving.**\n",
    "\n",
    "<img src=\"../img/traditional-programming-vs-ML.png\" height=\"700\" width=\"700\"> \n",
    "<br><br><br><br><br>"
   ]
  },
  {
   "cell_type": "markdown",
   "metadata": {},
   "source": [
    "### Today, we focus on **Supervised Learning**"
   ]
  },
  {
   "cell_type": "markdown",
   "metadata": {},
   "source": [
    "<br><br>"
   ]
  },
  {
   "cell_type": "markdown",
   "metadata": {
    "slideshow": {
     "slide_type": "slide"
    }
   },
   "source": [
    "### What is supervised machine learning (ML)? \n",
    "\n",
    "- Training data comprises a set of observations ($X$) and their corresponding targets ($y$). \n",
    "- We wish to find a model function $f$ that relates $X$ to $y$.\n",
    "- We use the model function to predict targets of new examples. \n",
    "\n",
    "<img src=\"../img/sup-learning.png\" height=\"800\" width=\"800\"> \n"
   ]
  },
  {
   "cell_type": "markdown",
   "metadata": {
    "slideshow": {
     "slide_type": "slide"
    }
   },
   "source": [
    "### Example: Predict whether a message is spam or not "
   ]
  },
  {
   "cell_type": "markdown",
   "metadata": {
    "slideshow": {
     "slide_type": "skip"
    }
   },
   "source": [
    "## Setup"
   ]
  },
  {
   "cell_type": "code",
   "execution_count": null,
   "metadata": {
    "pycharm": {
     "is_executing": true
    },
    "slideshow": {
     "slide_type": "skip"
    }
   },
   "outputs": [],
   "source": [
    "# Some helper functions to save us time\n",
    "import sys\n",
    "sys.path.append(\"../code/.\")\n",
    "\n",
    "import glob\n",
    "import matplotlib.pyplot as plt\n",
    "from IPython.display import HTML\n",
    "import pandas as pd\n",
    "\n",
    "plt.rcParams[\"font.size\"] = 16\n",
    "pd.set_option(\"display.max_colwidth\", 200)"
   ]
  },
  {
   "cell_type": "markdown",
   "metadata": {},
   "source": [
    "#### Input features $X$ and target $y$"
   ]
  },
  {
   "cell_type": "markdown",
   "metadata": {},
   "source": [
    "Do not worry about the code and syntax for now. \n",
    "Download SMS Spam Collection Dataset from [here](https://www.kaggle.com/uciml/sms-spam-collection-dataset). "
   ]
  },
  {
   "cell_type": "code",
   "execution_count": null,
   "metadata": {
    "tags": [
     "hide-input"
    ]
   },
   "outputs": [],
   "source": [
    "import pandas as pd\n",
    "from sklearn.model_selection import train_test_split\n",
    "\n",
    "# prepare data\n",
    "sms_df = pd.read_csv(\"../data/spam.csv\", encoding=\"latin-1\")\n",
    "sms_df = sms_df.drop([\"Unnamed: 2\", \"Unnamed: 3\", \"Unnamed: 4\"], axis=1)\n",
    "sms_df = sms_df.rename(columns={\"v1\": \"target\", \"v2\": \"sms\"})\n",
    "\n",
    "train_df, test_df = train_test_split(sms_df, test_size=0.10, random_state=42)\n",
    "HTML(train_df.head().to_html(index=False))"
   ]
  },
  {
   "cell_type": "markdown",
   "metadata": {
    "slideshow": {
     "slide_type": "slide"
    }
   },
   "source": [
    "#### Training a supervised machine learning model with $X$ and $y$"
   ]
  },
  {
   "cell_type": "code",
   "execution_count": null,
   "metadata": {
    "slideshow": {
     "slide_type": "-"
    }
   },
   "outputs": [],
   "source": [
    "from sklearn.linear_model import LogisticRegression\n",
    "from sklearn.feature_extraction.text import CountVectorizer\n",
    "from sklearn.pipeline import Pipeline\n",
    "\n",
    "X_train, y_train = train_df['sms'], train_df['target']\n",
    "X_test, y_test = test_df['sms'], test_df['target']\n",
    "\n",
    "clf = Pipeline([\n",
    "        (\"vect\", CountVectorizer(max_features=5000)),\n",
    "        (\"clf\", LogisticRegression(max_iter=5000)),\n",
    "])\n",
    "clf.fit(X_train, y_train);"
   ]
  },
  {
   "cell_type": "markdown",
   "metadata": {
    "slideshow": {
     "slide_type": "slide"
    }
   },
   "source": [
    "#### Predicting on unseen data using the trained model"
   ]
  },
  {
   "cell_type": "markdown",
   "metadata": {},
   "source": [
    "Do not worry about the code and syntax for now. "
   ]
  },
  {
   "cell_type": "code",
   "execution_count": null,
   "metadata": {
    "slideshow": {
     "slide_type": "slide"
    }
   },
   "outputs": [],
   "source": [
    "# let's test on 10 samples\n",
    "num = 10\n",
    "X_test_small = X_test.iloc[0:num]\n",
    "y_test_small = y_test.iloc[0:num]\n",
    "y_hat_test_small = clf.predict(X_test_small)\n",
    "\n",
    "pred_df = pd.DataFrame({\"X\": X_test_small, \"y\": y_test_small, \"y^ (predictions)\": y_hat_test_small})\n",
    "pred_df.style.set_properties(**{\"text-align\": \"left\"})"
   ]
  },
  {
   "cell_type": "markdown",
   "metadata": {},
   "source": [
    "**We have accurately predicted labels for the unseen text messages above!**"
   ]
  },
  {
   "cell_type": "markdown",
   "metadata": {},
   "source": [
    "<br><br>"
   ]
  },
  {
   "cell_type": "markdown",
   "metadata": {
    "slideshow": {
     "slide_type": "slide"
    }
   },
   "source": [
    "### 🤔 Eva's questions\n",
    "\n",
    "At this point, Eva is wondering about many questions. \n",
    "\n",
    "- How are we exactly **learning** whether a message is spam? \n",
    "- What do you mean by \"learn without being **explicitly** programmed\"? The code has to be somewhere ...?\n",
    "- Are we expected to get correct predictions for **all** possible messages?\n",
    "- How do we **measure the success** of spam identification? \n",
    "- What if the model incorrectly predicts a non-spam as a spam? What would be the **consequences**? \n",
    "- Would it be useful to know **how confident the model is about the predictions** rather than just a yes or a no?\n",
    "\n",
    "It's great to think about these questions right now.   \n",
    "By the end of this course you'll know answers to many of these questions!  \n",
    "\n",
    "![](../img/eva-qm.png)"
   ]
  },
  {
   "cell_type": "markdown",
   "metadata": {
    "slideshow": {
     "slide_type": "slide"
    }
   },
   "source": [
    "### Examples\n",
    "\n",
    "Let's look at some concrete examples of supervised machine learning. "
   ]
  },
  {
   "cell_type": "markdown",
   "metadata": {
    "slideshow": {
     "slide_type": "-"
    }
   },
   "source": [
    "Do not worry about the code at this point. Just focus on the input and output in each example.\n"
   ]
  },
  {
   "cell_type": "markdown",
   "metadata": {
    "slideshow": {
     "slide_type": "slide"
    }
   },
   "source": [
    "#### Example 1: Predicting whether a patient has a liver disease or not"
   ]
  },
  {
   "cell_type": "markdown",
   "metadata": {
    "slideshow": {
     "slide_type": "-"
    }
   },
   "source": [
    "##### Input data\n",
    "\n",
    "Suppose we are interested in predicting whether a patient has the disease or not. We are given some tabular data with inputs and outputs of liver patients, as shown below. The data contains a number of input features and a special column called \"Target\" which is the output we are interested in predicting. "
   ]
  },
  {
   "cell_type": "markdown",
   "metadata": {
    "slideshow": {
     "slide_type": "-"
    }
   },
   "source": [
    "```{note}\n",
    "Download the data from [here](https://www.kaggle.com/uciml/indian-liver-patient-records). \n",
    "```"
   ]
  },
  {
   "cell_type": "code",
   "execution_count": null,
   "metadata": {
    "slideshow": {
     "slide_type": "slide"
    },
    "tags": [
     "hide-input"
    ]
   },
   "outputs": [],
   "source": [
    "import pandas as pd\n",
    "from sklearn.model_selection import train_test_split\n",
    "\n",
    "df = pd.read_csv(\"../data/indian_liver_patient.csv\")\n",
    "df = df.drop(\"Gender\", axis=1)\n",
    "df[\"Dataset\"] = df[\"Dataset\"].replace(1, \"Disease\")\n",
    "df[\"Dataset\"] = df[\"Dataset\"].replace(2, \"No Disease\")\n",
    "df.rename(columns={\"Dataset\": \"Target\"}, inplace=True)\n",
    "\n",
    "train_df, test_df = train_test_split(df, test_size=10, random_state=42)\n",
    "\n",
    "HTML(train_df.head().to_html(index=False))"
   ]
  },
  {
   "cell_type": "markdown",
   "metadata": {
    "slideshow": {
     "slide_type": "slide"
    }
   },
   "source": [
    "##### Building a supervise machine learning model\n",
    "\n",
    "Let's train a supervised machine learning model with the input and output above. "
   ]
  },
  {
   "cell_type": "code",
   "execution_count": null,
   "metadata": {},
   "outputs": [],
   "source": [
    "from lightgbm.sklearn import LGBMClassifier\n",
    "\n",
    "X_train = train_df.drop(columns=[\"Target\"], axis=1)\n",
    "y_train = train_df[\"Target\"]\n",
    "print(\"train set count:\", len(X_train))\n",
    "\n",
    "X_test = test_df.drop(columns=[\"Target\"], axis=1)\n",
    "y_test = test_df[\"Target\"]\n",
    "print(\"test set count:\", len(X_test))\n",
    "\n",
    "model = LGBMClassifier(random_state=123)\n",
    "model.fit(X_train, y_train)"
   ]
  },
  {
   "cell_type": "markdown",
   "metadata": {
    "slideshow": {
     "slide_type": "slide"
    }
   },
   "source": [
    "##### Model predictions on unseen data\n",
    "\n",
    "- Given features of new patients below we'll use this model to predict whether these patients have the liver disease or not. "
   ]
  },
  {
   "cell_type": "code",
   "execution_count": null,
   "metadata": {},
   "outputs": [],
   "source": [
    "HTML(X_test.reset_index(drop=True).to_html(index=False))"
   ]
  },
  {
   "cell_type": "code",
   "execution_count": null,
   "metadata": {
    "slideshow": {
     "slide_type": "slide"
    }
   },
   "outputs": [],
   "source": [
    "y_test_hat = model.predict(X_test)\n",
    "pred_df = pd.DataFrame({\"y\": y_test, \"y^ (predicted)\": y_test_hat})\n",
    "HTML(pred_df.to_html(index=False))"
   ]
  },
  {
   "cell_type": "markdown",
   "metadata": {},
   "source": [
    "<br><br>"
   ]
  },
  {
   "cell_type": "markdown",
   "metadata": {
    "slideshow": {
     "slide_type": "slide"
    }
   },
   "source": [
    "#### Example 2: Predicting the label of a given image \n",
    "\n",
    "Suppose you want to predict the label of a given image using supervised machine learning. We are using a pre-trained model here to predict labels of new unseen images. "
   ]
  },
  {
   "cell_type": "code",
   "execution_count": null,
   "metadata": {
    "slideshow": {
     "slide_type": "slide"
    }
   },
   "outputs": [],
   "source": [
    "import numpy as np\n",
    "from PIL import Image\n",
    "\n",
    "import torch\n",
    "from torchvision.models import vgg16, VGG16_Weights\n",
    "from torchvision import transforms\n",
    "\n",
    "clf = vgg16(weights=VGG16_Weights.IMAGENET1K_V1)  # download a trained model\n",
    "clf.eval()  # Set the mode to evaluation\n",
    "\n",
    "with open(\"../data/imagenet_classes.txt\") as f:\n",
    "    classes = [line.strip() for line in f.readlines()]\n",
    "\n",
    "def classify_image(img, topn=4):    \n",
    "    preprocess = transforms.Compose([\n",
    "            transforms.Resize(299),\n",
    "            transforms.CenterCrop(299),\n",
    "            transforms.ToTensor(),\n",
    "            transforms.Normalize(mean=[0.485, 0.456, 0.406], std=[0.229, 0.224, 0.225]),\n",
    "    ])\n",
    "    img_t = preprocess(img)\n",
    "    batch_t = torch.unsqueeze(img_t, 0)\n",
    "\n",
    "    # predict targets\n",
    "    output = clf(batch_t)\n",
    "\n",
    "    # get class name and probability\n",
    "    _, indices = torch.sort(output, descending=True)\n",
    "    probabilities = torch.nn.functional.softmax(output, dim=1)\n",
    "    d = {\n",
    "        \"Class\": [classes[idx] for idx in indices[0][:topn]],\n",
    "        \"Probability score\": [\n",
    "            np.round(probabilities[0, idx].item(), 3) for idx in indices[0][:topn]\n",
    "        ],\n",
    "    }\n",
    "    df = pd.DataFrame(d, columns=[\"Class\", \"Probability score\"])\n",
    "    \n",
    "    return df\n",
    "\n",
    "# Predict labels with associated probabilities for unseen images\n",
    "images = glob.glob(\"../data/test_images/*.jpg\")\n",
    "for image in images:\n",
    "    img = Image.open(image)\n",
    "    img.load()\n",
    "    plt.imshow(img)\n",
    "    plt.show()\n",
    "    df = classify_image(img)\n",
    "    print(df.to_string(index=False))\n",
    "    print(\"--------------------------------------------------------------\")"
   ]
  },
  {
   "cell_type": "markdown",
   "metadata": {},
   "source": [
    "<br><br>"
   ]
  },
  {
   "cell_type": "markdown",
   "metadata": {},
   "source": [
    "<br><br>"
   ]
  },
  {
   "cell_type": "markdown",
   "metadata": {
    "slideshow": {
     "slide_type": "skip"
    }
   },
   "source": [
    "#### Example 3: Predicting housing prices\n",
    "\n",
    "Suppose we want to predict housing prices given a number of attributes associated with houses. "
   ]
  },
  {
   "cell_type": "markdown",
   "metadata": {
    "slideshow": {
     "slide_type": "skip"
    }
   },
   "source": [
    "Download the data from [here](https://www.kaggle.com/harlfoxem/housesalesprediction). "
   ]
  },
  {
   "cell_type": "code",
   "execution_count": null,
   "metadata": {
    "slideshow": {
     "slide_type": "skip"
    },
    "tags": [
     "hide-input"
    ]
   },
   "outputs": [],
   "source": [
    "df = pd.read_csv(\"../data/kc_house_data.csv\")\n",
    "df.drop([\"id\", \"date\"], axis=1, inplace=True)\n",
    "df.rename(columns={\"price\": \"target\"}, inplace=True)\n",
    "\n",
    "train_df, test_df = train_test_split(df, test_size=0.2, random_state=4)\n",
    "\n",
    "HTML(train_df.head().to_html(index=False))"
   ]
  },
  {
   "cell_type": "code",
   "execution_count": null,
   "metadata": {
    "slideshow": {
     "slide_type": "skip"
    }
   },
   "outputs": [],
   "source": [
    "# Build a regression model\n",
    "from xgboost import XGBRegressor\n",
    "\n",
    "X_train, y_train = train_df.drop(\"target\", axis=1), train_df[\"target\"]\n",
    "X_test, y_test = test_df.drop(\"target\", axis=1), train_df[\"target\"]\n",
    "\n",
    "model = XGBRegressor()\n",
    "model.fit(X_train, y_train);"
   ]
  },
  {
   "cell_type": "code",
   "execution_count": null,
   "metadata": {
    "slideshow": {
     "slide_type": "skip"
    }
   },
   "outputs": [],
   "source": [
    "# Predict on unseen examples using the built model\n",
    "num = 10\n",
    "X_test_small = X_test.iloc[:num]\n",
    "y_test_small = y_test.iloc[:num]\n",
    "\n",
    "y_test_small_hat = model.predict(X_test_small)\n",
    "\n",
    "pred_df = pd.DataFrame(\n",
    "    {\n",
    "        \"y (actual price)\": y_test_small, \n",
    "        \"y^ (predicted price)\": y_test_small_hat.round(), \n",
    "        \"absolute percentage error\": np.abs(y_test_small - y_test_small_hat)/y_test_small * 100},\n",
    ")\n",
    "HTML(pred_df.to_html(index=False))"
   ]
  },
  {
   "cell_type": "markdown",
   "metadata": {},
   "source": [
    "<br><br>"
   ]
  },
  {
   "cell_type": "markdown",
   "metadata": {
    "slideshow": {
     "slide_type": "skip"
    }
   },
   "source": [
    "### Machine learning workflow \n",
    "\n",
    "Supervised machine learning is quite flexible; it can be used on a variety of problems and different kinds of data. Here is a typical workflow of a supervised machine learning systems.  \n",
    "\n",
    "<img src=\"../img/ml-workflow.png\" height=\"800\" width=\"800\"> \n",
    "\n",
    "We will build machine learning pipelines in this course, focusing on some of the steps above. "
   ]
  },
  {
   "cell_type": "markdown",
   "metadata": {},
   "source": [
    "<br><br>"
   ]
  },
  {
   "cell_type": "markdown",
   "metadata": {
    "slideshow": {
     "slide_type": "skip"
    }
   },
   "source": [
    "<br><br>"
   ]
  },
  {
   "cell_type": "markdown",
   "metadata": {
    "slideshow": {
     "slide_type": "slide"
    }
   },
   "source": [
    "## Break (5 min)\n",
    "\n",
    "![](../img/eva-coffee.png)\n",
    "\n",
    "- We will try to take a 5-minute break half way through every class."
   ]
  },
  {
   "cell_type": "markdown",
   "metadata": {},
   "source": [
    "<br><br>"
   ]
  },
  {
   "cell_type": "markdown",
   "metadata": {
    "slideshow": {
     "slide_type": "slide"
    }
   },
   "source": [
    "## About this course"
   ]
  },
  {
   "cell_type": "markdown",
   "metadata": {
    "slideshow": {
     "slide_type": "slide"
    }
   },
   "source": [
    "### Course website "
   ]
  },
  {
   "cell_type": "markdown",
   "metadata": {
    "slideshow": {
     "slide_type": "-"
    }
   },
   "source": [
    "[https://github.com/UBC-CS/cpsc330-2022W2](https://github.com/UBC-CS/cpsc330-2022W2) is the most important link.  \n",
    "Please read everything on there!\n"
   ]
  },
  {
   "cell_type": "markdown",
   "metadata": {
    "slideshow": {
     "slide_type": "slide"
    }
   },
   "source": [
    "### CPSC 330 vs. CPSC 340\n",
    "\n",
    "Read [https://github.com/UBC-CS/cpsc330-2022W2/blob/main/docs/330_vs_340.md](https://github.com/UBC-CS/cpsc330-2022W2/blob/main/docs/330_vs_340.md)  \n",
    "which explains the difference between the two courses.  \n",
    "\n",
    "**TLDR:**\n",
    "\n",
    "- 340: how do ML models work?\n",
    "- 330: how do I use ML models?\n",
    "- CPSC 340 has many prerequisites. \n",
    "- CPSC 340 dives more into theory (depending on instructors' preference)\n",
    "- CPSC 330 is more Applied."
   ]
  },
  {
   "cell_type": "markdown",
   "metadata": {
    "slideshow": {
     "slide_type": "slide"
    }
   },
   "source": [
    "### Registration, waitlist and prerequisites"
   ]
  },
  {
   "cell_type": "markdown",
   "metadata": {},
   "source": [
    "Please go through [this document](https://github.com/UBC-CS/cpsc330-2022W2/blob/main/docs/course_info.md#registration) carefully before contacting the instructor team.   \n",
    "The right person to reach regarding registration, waitlist or prerequisite issues is our **course coordinator, Michelle Pang (cpsc330-admin@cs.ubc.ca)**"
   ]
  },
  {
   "cell_type": "markdown",
   "metadata": {
    "slideshow": {
     "slide_type": "slide"
    }
   },
   "source": [
    "### Course format\n",
    "\n",
    "- Lectures are Tues/Thurs at 5:00-6:30 PM.\n",
    "- Sometimes there will be videos to watch before or during the lecture time. \n",
    "  - Check the main course page to see if you are expected to watch videos **before the class**.\n",
    "- Weekly tutorials will be **office hour format** run by the TAs and are **optional**.\n",
    "- We'll have **one midterm** and **one final**."
   ]
  },
  {
   "cell_type": "markdown",
   "metadata": {
    "slideshow": {
     "slide_type": "slide"
    }
   },
   "source": [
    "### Communications\n",
    "\n",
    "- Our main forum for getting help will be [Piazza](https://piazza.com/class/lcgo6c2ncl06el).\n",
    "  - To make sure you get response in a timely manner, **avoid using Canvas and Email**\n",
    "- Let's all take 2 minutes to register (through the link or through the tab on Canvas)\n",
    "- You must have a @ubc.ca email associated with your account. Unrecognizable accounts (other emails) will be dropped without warning."
   ]
  },
  {
   "cell_type": "markdown",
   "metadata": {
    "slideshow": {
     "slide_type": "slide"
    }
   },
   "source": [
    "### Grades\n",
    "\n",
    "- The grading breakdown is [here](https://github.com/UBC-CS/cpsc330-2022W2/blob/main/docs/grades.md). \n",
    "  - Read the page; there are other important info there (example, you have **one week to raise a concern** about a grade by contacting the course coordinator; see, **important info!**)\n",
    "- A score of at least 50% in the Final Exam is required to pass the course."
   ]
  },
  {
   "cell_type": "markdown",
   "metadata": {
    "slideshow": {
     "slide_type": "slide"
    }
   },
   "source": [
    "### First deliverables\n",
    "\n",
    "- First homework assignment is due **this coming Monday, Jan 16th, at 11:59pm**. \n",
    "- The assignment is available on [GitHub](https://github.com/UBC-CS/cpsc330-2022W2/tree/main/hw/hw1)\n",
    "- You must do the first homework assignment alone.\n",
    "- The **Syllabus quiz** is available on [Canvas](https://canvas.ubc.ca/courses/106375/quizzes/584868) and is due **this coming Monday, Jan 16th, at 11:59pm.**"
   ]
  },
  {
   "cell_type": "markdown",
   "metadata": {},
   "source": [
    "<br><br><br><br><br><br><br>\n",
    "Please read the [document about asking for help](https://github.com/UBC-CS/cpsc330-2022W2/blob/main/docs/asking_for_help.md).  \n",
    "<br><br><br><br><br><br><br>"
   ]
  },
  {
   "cell_type": "markdown",
   "metadata": {
    "slideshow": {
     "slide_type": "slide"
    }
   },
   "source": [
    "### Jupyter Notebook\n",
    "- Lectures and Homeworks are Jupyter Notebooks\n",
    "\n",
    "\n",
    "### What is a Jupyter Notebook?\n",
    "- The current document (this one!) is a [Jupyter notebook](https://jupyter.org/), with file extension `.ipynb`\n",
    "- It uses IPython (https://ipython.org/)\n",
    "- Jupyter Notebooks contain a mix of code, code output, markdown-formatted text (including LaTeX equations), and more.\n",
    "- You can open `.ipynb` files with many applications\n",
    "  - Jupyter Notebook (the application, not the file extension, haha)\n",
    "  - Jupyter Lab ([setup](https://github.com/UBC-CS/cpsc330-2022W2/blob/main/docs/setup.md) instructions include this)\n",
    "  - PyCharm (use this when you don't wanna leave your IDE)\n",
    "  - Microsoft VSCode (I use this at work!)\n",
    "  - They can be imported/exported to/from Google Colab (https://colab.research.google.com/)\n",
    "  - Azure ML also supports Jupyter Notebooks\n",
    "  - what else do you use to open Notebooks?\n",
    "\n",
    "(You will find some formatting to differ between the above applications)\n",
    "- Naturally, Jupyter Notebooks run fine on all famous browsers (Firefox, Chrome, Safari, Edge, to name a few). If you found a browser that failed, let us know."
   ]
  },
  {
   "cell_type": "markdown",
   "metadata": {},
   "source": [
    "Some shortcuts to ease your life:\n",
    "- `ctrl (Command) + return`: execute current cell\n",
    "- `shift + return`: execute current cell and move to next\n",
    "- `m`: convert the cell type to markdown\n",
    "- `y`: convert the cell to code\n",
    "- `shift + tab`: auto-complete"
   ]
  },
  {
   "cell_type": "markdown",
   "metadata": {},
   "source": [
    "- By default, Jupyter prints out the result of the last line of code, so you don't need as many `print` statements.\n",
    "- Jupyter notebooks can be statically (READ-ONLY) rendered in the web browser (check [this](https://github.com/UBC-CS/cpsc330-2022W2/blob/main/docs/python_notes.ipynb))"
   ]
  },
  {
   "cell_type": "markdown",
   "metadata": {
    "slideshow": {
     "slide_type": "slide"
    }
   },
   "source": [
    "## Setting up your computer for the course "
   ]
  },
  {
   "cell_type": "markdown",
   "metadata": {
    "slideshow": {
     "slide_type": "slide"
    }
   },
   "source": [
    "### Python requirements/resources\n",
    "\n",
    "We use Python in this course.   \n",
    "Here is the basic Python knowledge you'll need for the course: \n",
    "- Basic Python programming\n",
    "- Numpy\n",
    "- Pandas\n",
    "- Basic matplotlib\n",
    "- Sparse matrices\n",
    "\n",
    "Some of you will already know Python, others won't. Homework 1 is all about Python.  \n",
    "If you need to refresh your Python knowledge, [here is a notebook we prepared for you](https://github.com/UBC-CS/cpsc330-2022W2/blob/main/docs/python_notes.ipynb) that covers most essential Python skills for this course.\n"
   ]
  },
  {
   "cell_type": "markdown",
   "metadata": {
    "slideshow": {
     "slide_type": "-"
    }
   },
   "source": [
    "```{seealso}\n",
    "We do not have time to teach all the Python we need \n",
    "but you can find some useful Python resources [here](https://github.com/UBC-CS/cpsc330-2022W2/blob/main/docs/python_notes.ipynb).  \n",
    "```"
   ]
  },
  {
   "cell_type": "markdown",
   "metadata": {
    "slideshow": {
     "slide_type": "slide"
    }
   },
   "source": [
    "### Activity\n",
    "\n",
    "In this course, we will primarily be using Python, git, GitHub, Canvas, Gradescope, and Piazza. Let's set up your computers for the course. \n",
    "\n",
    "- Follow the setup instructions [here](https://github.com/UBC-CS/cpsc330-2022W2/blob/main/docs/setup.md) to create a course conda environment on your computer. "
   ]
  },
  {
   "cell_type": "markdown",
   "metadata": {
    "slideshow": {
     "slide_type": "slide"
    }
   },
   "source": [
    "### Checklist for you before next class \n",
    "\n",
    "- [ ] Are you able to access course [Canvas](https://canvas.ubc.ca/courses/106375) shell? \n",
    "- [ ] Are you able to access [Gradescope](https://www.gradescope.ca/courses/9483)? (If not, refer to the [Gradescope Student Guide](https://lthub.ubc.ca/guides/gradescope-student-guide/).)\n",
    "- [ ] Are you able to access [course Piazza](https://piazza.com/class/lcgo6c2ncl06el)?\n",
    "- [ ] Did you follow the setup instructions [here](https://github.com/UBC-CS/cpsc330-2022W2/blob/main/docs/setup.md) to create a course conda environment on your computer? \n",
    "- [ ] Did you complete the [Syllabus quiz on Canvas](https://canvas.ubc.ca/courses/106375/quizzes/584868)? (Due date: Monday, Jan 16th at 11:59pm)\n",
    "- [ ] Are you almost finished (or at least started) with homework 1? (Due: Monday, Jan 16th at 11:59pm)"
   ]
  },
  {
   "cell_type": "markdown",
   "metadata": {},
   "source": [
    "<br><br>"
   ]
  },
  {
   "cell_type": "markdown",
   "metadata": {
    "slideshow": {
     "slide_type": "slide"
    }
   },
   "source": [
    "## Summary\n",
    "\n",
    "- Machine learning is a different paradigm for problem solving.    \n",
    "- Very often it reduces the time you spend programming and helps customizing and scaling your products. \n",
    "- In supervised learning we are given a set of observations ($X$) and their corresponding targets ($y$) and we wish to find a model function $f$ that relates $X$ to $y$.\n",
    "- This is an applied course. **You should be ready with the technology stack on your laptop now. If you were not able to do it during lecture time or you ran into trouble, post on Piazza or attend one of the tutorials or office hours**.  \n",
    "- Please reach out if you are going through hard time. I'll try my best to be accommodative and empathetic. \n",
    "- Let's have fun learning this material together!\n"
   ]
  },
  {
   "cell_type": "markdown",
   "metadata": {},
   "source": [
    "![](../img/eva-seeyou.png)"
   ]
  }
 ],
 "metadata": {
  "celltoolbar": "Slideshow",
  "kernelspec": {
   "display_name": "Python 3",
   "language": "python",
   "name": "python3"
  },
  "language_info": {
   "codemirror_mode": {
    "name": "ipython",
    "version": 3
   },
   "file_extension": ".py",
   "mimetype": "text/x-python",
   "name": "python",
   "nbconvert_exporter": "python",
   "pygments_lexer": "ipython3",
   "version": "3.10.9 (tags/v3.10.9:1dd9be6, Dec  6 2022, 20:01:21) [MSC v.1934 64 bit (AMD64)]"
  },
  "vscode": {
   "interpreter": {
    "hash": "1895c2f75329a023f0c4497838ddd2dfca61c1df52d8df98f7f1b2e0b63c5b46"
   }
  }
 },
 "nbformat": 4,
 "nbformat_minor": 4
}
